{
 "cells": [
  {
   "cell_type": "code",
   "execution_count": 1,
   "id": "49329820",
   "metadata": {
    "scrolled": true
   },
   "outputs": [
    {
     "name": "stderr",
     "output_type": "stream",
     "text": [
      "Warning message:\n",
      "\"package 'Seurat' was built under R version 4.2.3\"\n",
      "Attaching SeuratObject\n",
      "\n",
      "'SeuratObject' was built with package 'Matrix' 1.6.1.1 but the current\n",
      "version is 1.6.4; it is recomended that you reinstall 'SeuratObject' as\n",
      "the ABI for 'Matrix' may have changed\n",
      "\n"
     ]
    }
   ],
   "source": [
    "library(CellChat)\n",
    "library(Seurat)"
   ]
  },
  {
   "cell_type": "code",
   "execution_count": 5,
   "id": "49e548f9",
   "metadata": {},
   "outputs": [],
   "source": [
    "Author = 'Deng_outer'\n",
    "adata = readRDS(paste0('./write/',Author,'.seurat.rds'))"
   ]
  },
  {
   "cell_type": "code",
   "execution_count": 6,
   "id": "aece6c8e",
   "metadata": {},
   "outputs": [],
   "source": [
    "Author='Deng_outer'\n",
    "Group='apoe'\n",
    "cellchat <- readRDS(paste0(\"./Files/\",Author,'_',Group,\".cellchat.rds\"))"
   ]
  },
  {
   "cell_type": "code",
   "execution_count": null,
   "id": "f2b76151",
   "metadata": {
    "tags": []
   },
   "outputs": [],
   "source": [
    "names(table(cellchat@idents))"
   ]
  },
  {
   "cell_type": "code",
   "execution_count": null,
   "id": "6cc90493",
   "metadata": {},
   "outputs": [],
   "source": [
    "groupSize <- as.numeric(table(cellchat@idents))\n",
    "endo_immune_list <- c(1,2,3,4,5,6,10,11,12,13,14,15,16,21,22,23)\n",
    "par(mfrow = c(1,1), xpd=TRUE)\n",
    "t <- netVisual_circle(cellchat@net$weight, vertex.weight = groupSize,sources.use = endo_immune_list,targets.use = endo_immune_list,\n",
    "                 weight.scale = T, label.edge= F, title.name = paste0(toupper(Group),\" Interaction Weights\"))\n",
    "pdf(paste0('./figures/',Author,'_',Group,'_overall.pdf'))\n",
    "# netVisual_circle(cellchat@net$count, vertex.weight = groupSize, \n",
    "#                  weight.scale = T, label.edge= F, title.name = \"Number of interactions\")\n",
    "print(t)\n",
    "dev.off()"
   ]
  },
  {
   "cell_type": "code",
   "execution_count": 10,
   "id": "5dbca717",
   "metadata": {},
   "outputs": [
    {
     "name": "stderr",
     "output_type": "stream",
     "text": [
      "Merge the following slots: 'data.signaling','images','net', 'netP','meta', 'idents', 'var.features' , 'DB', and 'LR'.\n",
      "\n"
     ]
    }
   ],
   "source": [
    "G1 = 'apoe'\n",
    "G2 = 'wt'\n",
    "cellchatG1 = readRDS(paste0(\"./Files/\",Author,'_',G1,\".cellchat.rds\"))\n",
    "cellchatG2 = readRDS(paste0(\"./Files/\",Author,'_',G2,\".cellchat.rds\"))\n",
    "object.list = list(APOE=cellchatG1,WT=cellchatG2)\n",
    "cellchatComb = mergeCellChat(object.list,\n",
    "                             add.names = names(object.list))"
   ]
  },
  {
   "cell_type": "code",
   "execution_count": null,
   "id": "51157c07",
   "metadata": {},
   "outputs": [],
   "source": [
    "pdf(paste0(\"./Files/\",Author,'_',G1,'v',G2,\".heatmap.pdf\"),height = 20)\n",
    "netVisual_heatmap(cellchatComb, measure = \"weight\")\n",
    "dev.off()"
   ]
  },
  {
   "cell_type": "code",
   "execution_count": null,
   "id": "392e0eae",
   "metadata": {},
   "outputs": [],
   "source": [
    "names(table(cellchat@idents))"
   ]
  },
  {
   "cell_type": "code",
   "execution_count": 7,
   "id": "2bda6a36",
   "metadata": {},
   "outputs": [],
   "source": [
    "df.net <- read.csv(paste0(\"./Files/\",Author,'_',Group,\".CCC.csv\"),row.names = 1)"
   ]
  },
  {
   "cell_type": "code",
   "execution_count": null,
   "id": "4a2489d6-7016-40c0-87a5-fc274019b20e",
   "metadata": {},
   "outputs": [],
   "source": [
    "unique(df.net$interaction_name)"
   ]
  },
  {
   "cell_type": "code",
   "execution_count": null,
   "id": "22e7ecf1",
   "metadata": {},
   "outputs": [],
   "source": [
    "inters = data.frame(interaction_name=rev(c(\"CXCL12_CXCR4\",\"CCL5_CCR5\",\"CXCL3_ACKR1\",\"COL4A2_CD44\",\"SELL_CD34\")))"
   ]
  },
  {
   "cell_type": "code",
   "execution_count": null,
   "id": "a1486c1c",
   "metadata": {},
   "outputs": [],
   "source": [
    "inters2 = data.frame(interaction_name=rev(c(\"FN1_ITGA5_ITGB1\",\"THBS1_CD47\",\"ITGB2_ICAM2\",\"SELL_CD34\")))"
   ]
  },
  {
   "cell_type": "code",
   "execution_count": null,
   "id": "7acafb3c",
   "metadata": {},
   "outputs": [],
   "source": [
    "inters"
   ]
  },
  {
   "cell_type": "code",
   "execution_count": null,
   "id": "b93b78f6",
   "metadata": {
    "tags": []
   },
   "outputs": [],
   "source": [
    "names(table(cellchat@idents))"
   ]
  },
  {
   "cell_type": "code",
   "execution_count": 13,
   "id": "e91f0426",
   "metadata": {},
   "outputs": [
    {
     "name": "stderr",
     "output_type": "stream",
     "text": [
      "Comparing communications on a merged object \n",
      "\n",
      "\n",
      "Warning message:\n",
      "\"\u001b[1m\u001b[22mVectorized input to `element_text()` is not officially supported.\n",
      "\u001b[36mi\u001b[39m Results may be unexpected or may change in future versions of ggplot2.\"\n"
     ]
    },
    {
     "data": {
      "text/html": [
       "<strong>png:</strong> 2"
      ],
      "text/latex": [
       "\\textbf{png:} 2"
      ],
      "text/markdown": [
       "**png:** 2"
      ],
      "text/plain": [
       "png \n",
       "  2 "
      ]
     },
     "metadata": {},
     "output_type": "display_data"
    }
   ],
   "source": [
    "# Bubble Endo-Immune\n",
    "signaling = 'ALL'\n",
    "ct = '_Endo_Gran_Mac'\n",
    "pdf(paste0(\"./figures/\",Author,'_',G1,'_v_',G2,\".\",signaling,ct,\".bubbles.pdf\"),\n",
    "    height=20,width = 10)\n",
    "netVisual_bubble(cellchatComb, comparison=c(2,1),\n",
    "                 #signaling= signaling,\n",
    "                 #pairLR.use=inters,\n",
    "                 sources.use = c(3,4,5,6), \n",
    "                 targets.use = c(10,11,12,13,14,15),\n",
    "                 color.text = c(\"cyan4\",\"red\"),\n",
    "                 remove.isolate = FALSE,\n",
    "                 thresh=1,\n",
    "                 sort.by.source.priority = FALSE\n",
    "                )\n",
    "dev.off()"
   ]
  },
  {
   "cell_type": "code",
   "execution_count": 14,
   "id": "859c63b4",
   "metadata": {},
   "outputs": [
    {
     "name": "stderr",
     "output_type": "stream",
     "text": [
      "Comparing communications on a merged object \n",
      "\n",
      "\n",
      "Warning message:\n",
      "\"\u001b[1m\u001b[22mVectorized input to `element_text()` is not officially supported.\n",
      "\u001b[36mi\u001b[39m Results may be unexpected or may change in future versions of ggplot2.\"\n"
     ]
    },
    {
     "data": {
      "text/html": [
       "<strong>png:</strong> 2"
      ],
      "text/latex": [
       "\\textbf{png:} 2"
      ],
      "text/markdown": [
       "**png:** 2"
      ],
      "text/plain": [
       "png \n",
       "  2 "
      ]
     },
     "metadata": {},
     "output_type": "display_data"
    }
   ],
   "source": [
    "# Bubble Immune-Endo\n",
    "signaling = 'All'\n",
    "ct = '_Gran_Mac_Endo'\n",
    "pdf(paste0(\"./figures/\",Author,'_',G1,'_v_',G2,\".\",signaling,ct,\".bubbles.pdf\"),\n",
    "    height=20,width = 10)\n",
    "netVisual_bubble(cellchatComb, comparison=c(2,1),\n",
    "                 #signaling= signaling,\n",
    "                 #pairLR.use=inters2,\n",
    "                 sources.use = c(10,11,12,13,14,21), \n",
    "                 targets.use = c(3,4,5,6),\n",
    "                 color.text = c(\"cyan4\",\"red\"),\n",
    "                 remove.isolate = FALSE,\n",
    "                 thresh=1\n",
    "                )\n",
    "dev.off()"
   ]
  },
  {
   "cell_type": "code",
   "execution_count": null,
   "id": "5bfa567c",
   "metadata": {},
   "outputs": [],
   "source": []
  }
 ],
 "metadata": {
  "kernelspec": {
   "display_name": "R",
   "language": "R",
   "name": "ir"
  },
  "language_info": {
   "codemirror_mode": "r",
   "file_extension": ".r",
   "mimetype": "text/x-r-source",
   "name": "R",
   "pygments_lexer": "r",
   "version": "4.2.0"
  }
 },
 "nbformat": 4,
 "nbformat_minor": 5
}
